{
 "cells": [
  {
   "cell_type": "markdown",
   "metadata": {},
   "source": [
    "# What is this thing called Jupyter?\n",
    "\n",
    "These checkpoints have been throwing around a bunch of new terms: *Python*, *Colaboratory*, *Jupyter*. Right now, you'll take a look at what Jupyter is.\n",
    "\n",
    "You're presently looking at a Jupyter Notebook that's embedded in the Thinkful curriculum app. You could view this same Jupyter Notebook on Google Colaboratory.  \n",
    "\n",
    "This is your first Notebook. Because you're going to use Notebooks throughout this sequence of Python modules, it's useful to take a moment to learn what they are, explore some of their features, and get familiar with a few keys and tricks. The goal is to make sure that you're getting the most out of them.\n",
    "\n",
    "## Cells\n",
    "\n",
    "Notebooks are divided into cells. Cells can contain written text, like this one. Or, they can provide an interface for writing and executing Python code. Below is an empty cell. Try typing `print('hello world!')` in this cell, then clicking the **Run** button at the top of this Notebook:"
   ]
  },
  {
   "cell_type": "code",
   "execution_count": 6,
   "metadata": {},
   "outputs": [
    {
     "name": "stdout",
     "output_type": "stream",
     "text": [
      "Hello world from Jupyter Notebooks\n"
     ]
    }
   ],
   "source": [
    "print('Hello world from Jupyter Notebooks')"
   ]
  },
  {
   "cell_type": "markdown",
   "metadata": {},
   "source": [
    "Now, try replacing `print('hello world')` with `2 + 2` and then reexecute the cell. What happens?\n",
    "\n",
    "\n",
    "After a cell gets executed, any variables that it creates are accessible in other cells. Below, create a variable called `message` and set its value to a string value.\n"
   ]
  },
  {
   "cell_type": "code",
   "execution_count": 3,
   "metadata": {},
   "outputs": [],
   "source": [
    "message = 'Hello! This string is stored in the variable `message`.'"
   ]
  },
  {
   "cell_type": "markdown",
   "metadata": {},
   "source": [
    "Execute the cell above, but this time, instead of pressing the **Run** button, use the keyboard shortcut to execute a cell. Press `Shift+Enter` when the cell is highlighted.\n",
    "\n",
    "Now you can reference `message` in your next cell. Execute the cell below to print `message`."
   ]
  },
  {
   "cell_type": "code",
   "execution_count": 4,
   "metadata": {},
   "outputs": [
    {
     "name": "stdout",
     "output_type": "stream",
     "text": [
      "Hello! This string is stored in the variable `message`.\n"
     ]
    }
   ],
   "source": [
    "print(message)"
   ]
  },
  {
   "cell_type": "markdown",
   "metadata": {},
   "source": [
    "Cells can be selected in two ways. First, a cell is highlighted but inactive if there is a box around the cell (usually in green) but no cursor. If there is a cursor, then the cell is active, and you can input into it.\n",
    "\n",
    "A Notebook can have as many cells as you need. There are several ways to add cells. When you run the last cell in your Notebook, a new cell is automatically added below. Also, if you have a cell highlighted but inactive, you can add a cell above or below by typing `a` or `b`, respectively. To delete a cell, press `d` twice.\n",
    "\n",
    "Now, every Notebook runs in a single Python environment.\n",
    "\n",
    "That means a couple of things. Firstly, the code is executed in the order that you execute in. Variables and functions and the like are stored for the whole Notebook. So `message` still means something, even here:"
   ]
  },
  {
   "cell_type": "code",
   "execution_count": 5,
   "metadata": {},
   "outputs": [
    {
     "name": "stdout",
     "output_type": "stream",
     "text": [
      "Hello! This string is stored in the variable `message`.\n"
     ]
    }
   ],
   "source": [
    "print(message)"
   ]
  },
  {
   "cell_type": "markdown",
   "metadata": {},
   "source": [
    "You can also get into trouble with this. If you change code in your cell and run it multiple times, you can change the variables or outputs in a way that you don't intend. The same is true if you run cells out of order. That's why it's *very* important that you keep all of your code ordered and runnable.\n",
    "\n",
    "Basically, what this means is that you should be able to restart your Notebook and run every cell in order to get to the result you want. If you have to run things out of order or rerun cells, that's likely going to cause problems for you and for anyone else reading your code. If you get confused about what was executed and in what order, it can be useful to rerun everything from scratch by selecting **Kernel > Restart and run all** from the menu bar. This will basically reboot and rerun your entire Notebook from top to bottom.\n",
    "\n",
    "Use cells intelligently throughout your Notebook. Many people think of a cell as a step. You should use a cell to write a function or run a model,  but don't try to do too much in a single cell. Keep it simple, and your code will be more modular and easier to read and reuse."
   ]
  },
  {
   "cell_type": "markdown",
   "metadata": {},
   "source": [
    "## Markdown\n",
    "\n",
    "So far, you've only looked at code cells, but there are other kinds of cells as well. The main other kind of cell that you should know about is the Markdown cell. This cell is actually a Markdown cell. You can double-click it to see and edit the raw Markdown, then run the cell again to see the Markdown rendered.\n",
    "\n",
    "When you're using Notebooks to write reports, you want to be able to include prose that isn't very appropriate for code comments. Markdown is useful for this.\n",
    "\n",
    "By default, every new cell is a code cell. To convert a cell to Markdown, highlight the cell, make sure it's inactive, and type `m`. It's that simple.\n",
    "\n",
    "Jupyter supports full Markdown, so you can do all sorts of things, like the following:\n",
    "\n",
    "_Italics_\n",
    "\n",
    "__Bold__\n",
    "\n",
    "# Big headers\n",
    "\n",
    "#### And small headers\n",
    "\n",
    "both `inline` code\n",
    "\n",
    "```python\n",
    "# And syntax-highlighted\n",
    "multiline()\n",
    "codeblock = \"samples\"\n",
    "```\n",
    "\n",
    "Embedded HTML like <kbd>key</kbd> tags and <span style=\"color:red;\">tags with custom CSS</span>.\n",
    "\n",
    "And LaTeX-style equations: $e^{i\\pi} + 1 = 0$\n",
    "\n",
    "Probably most usefully, you have [links](http://jupyter-notebook.readthedocs.io/en/latest/notebook.html).\n",
    "\n",
    "That link above is the nice and readable documentation for Jupyter. It's worth looking through if you have any further questions about Notebooks. For more detail on Markdown specifically, [see Jupyter's guidance on Markdown cells](http://jupyter-notebook.readthedocs.io/en/latest/examples/Notebook/Working%20With%20Markdown%20Cells.html). "
   ]
  },
  {
   "cell_type": "markdown",
   "metadata": {},
   "source": [
    "That should be enough to get you started with Jupyter. If you have any questions after reading [the docs](http://jupyter-notebook.readthedocs.io/en/latest/notebook.html), follow up with your mentor!"
   ]
  },
  {
   "cell_type": "markdown",
   "metadata": {},
   "source": [
    "## Assignment\n",
    "\n",
    "To complete this checkpoint, rework this Notebook so that it's a single cell with the following line of code in it:\n",
    "\n",
    "```python\n",
    "print('Hello world from Jupyter Notebooks')\n",
    "```\n",
    "\n",
    "Once you've made these changes, save this Notebook locally by clicking **File > Save as** in the menu bar in the Jupyter Notebook interface; save it somewhere on your computer. Name the file *hello_world_from_jupyter.ipynb*. `.ipynb` is the file type that Jupyter Notebooks are stored as. \n",
    "\n",
    "Finally, upload your *hello_world_from_jupyter.ipynb* file someplace publicly accessible on the web. Submit a link to it below to share it with your mentor and let them know that you're able to run, modify, save, and distribute Jupyter Notebooks."
   ]
  },
  {
   "cell_type": "markdown",
   "metadata": {},
   "source": [
    "## Importing modules\n",
    "\n",
    "All you need to start using modules is an `import` statement at the top of your program. Here's how you'd import the built-in `math` and `random` modules\n",
    "\n",
    "```python\n",
    "import math\n",
    "import random\n",
    "```\n",
    "\n",
    "It's customary to put your import statements at the [top of your files](https://www.python.org/dev/peps/pep-0008/#imports).\n",
    "\n",
    "Once imported, you'll have access to a `math` module object and a `random` module object. Just like every object, these contain attributes that you can work with. Some interesting attributes are the [`math.pi` constant](https://docs.python.org/3/library/math.html#math.pi) and the [`random.choice()` method](https://docs.python.org/3/library/random.html#random.choice). Below, try tinkering with these."
   ]
  },
  {
   "cell_type": "code",
   "execution_count": null,
   "metadata": {},
   "outputs": [],
   "source": [
    "# Import the `math` and the `random` modules.\n",
    "import math\n",
    "import random\n",
    "\n",
    "# Module attributes are accessed like any other object attribute.\n",
    "circumference = math.pi * 2\n",
    "print(circumference)\n",
    "\n",
    "# Module methods are functions and called like any other function.\n",
    "secret_number = random.choice([1, 2, 3, 4, 5])\n",
    "print(secret_number)\n",
    "\n",
    "destination = random.choice([\"Seattle\", \"New York\", \"Leipzig\", \"San Francisco\"])\n",
    "print(destination)# Import the math and the random modules.\n",
    "import math\n",
    "import random\n",
    "\n",
    "# Module attributes are accessed like any other object attribute.\n",
    "circumference = math.pi * 2\n",
    "print(circumference)\n",
    "\n",
    "# Module methods are functions and called like any other function.\n",
    "secret_number = random.choice([1, 2, 3, 4, 5])\n",
    "print(secret_number)\n",
    "\n",
    "destination = random.choice([\"Seattle\", \"New York\", \"Leipzig\", \"San Francisco\"])\n",
    "print(destination)"
   ]
  },
  {
   "cell_type": "markdown",
   "metadata": {},
   "source": [
    "Refer back to the documentation linked above for `math` and `random`, find a couple of attributes that you'd like to play with, and use them in the interactive example. For extra credit, go to the standard library and find a new package that you'd like to import and play with."
   ]
  }
 ],
 "metadata": {
  "kernelspec": {
   "display_name": "Python 3",
   "language": "python",
   "name": "python3"
  },
  "language_info": {
   "codemirror_mode": {
    "name": "ipython",
    "version": 3
   },
   "file_extension": ".py",
   "mimetype": "text/x-python",
   "name": "python",
   "nbconvert_exporter": "python",
   "pygments_lexer": "ipython3",
   "version": "3.8.6"
  }
 },
 "nbformat": 4,
 "nbformat_minor": 2
}
